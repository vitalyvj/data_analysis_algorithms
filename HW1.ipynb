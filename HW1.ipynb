{
 "cells": [
  {
   "cell_type": "code",
   "execution_count": 1,
   "metadata": {},
   "outputs": [],
   "source": [
    "import numpy as np\n",
    "from tqdm.notebook import trange, tqdm\n",
    "import matplotlib.pyplot as plt\n",
    "%matplotlib inline"
   ]
  },
  {
   "cell_type": "markdown",
   "metadata": {},
   "source": [
    "__Задание 1.__ Подберите скорость обучения (alpha) и количество итераций:"
   ]
  },
  {
   "cell_type": "code",
   "execution_count": 2,
   "metadata": {},
   "outputs": [],
   "source": [
    "# n = X.shape[1]\n",
    "# alpha = 1e-4\n",
    "# W = np.array([1, 0.5])\n",
    "\n",
    "# for i in range(1500):\n",
    "#     y_pred = np.dot(W, X)\n",
    "#     err = calc_mse(y, y_pred)\n",
    "#     for ii in range(W.shape[0]):\n",
    "#         W[ii] -= alpha * (1/n * 2 * np.sum(X[ii] * (y_pred - y)))\n",
    "#     if i % 100 == 0:\n",
    "#         print(i, W, err)"
   ]
  },
  {
   "cell_type": "code",
   "execution_count": 3,
   "metadata": {},
   "outputs": [],
   "source": [
    "X = np.array([[1, 1, 1, 1, 1, 1, 1, 1, 1, 1],\n",
    "              [1, 1, 2, 1, 3, 0, 5, 10, 1, 2]])\n",
    "\n",
    "y = np.array([45, 55, 50, 59, 65, 35, 75, 80, 50, 60])"
   ]
  },
  {
   "cell_type": "markdown",
   "metadata": {},
   "source": [
    "Найдем вектор $w$ методом наименьших квадратов:"
   ]
  },
  {
   "cell_type": "code",
   "execution_count": 4,
   "metadata": {},
   "outputs": [
    {
     "data": {
      "text/plain": [
       "array([47.23214286,  3.91071429])"
      ]
     },
     "execution_count": 4,
     "metadata": {},
     "output_type": "execute_result"
    }
   ],
   "source": [
    "W = np.linalg.inv(X @ X.T) @ X @ y\n",
    "\n",
    "W"
   ]
  },
  {
   "cell_type": "code",
   "execution_count": 5,
   "metadata": {},
   "outputs": [],
   "source": [
    "y_pred = W[0] + W[1] * X[1]"
   ]
  },
  {
   "cell_type": "code",
   "execution_count": 6,
   "metadata": {},
   "outputs": [
    {
     "data": {
      "image/png": "[encoded data removed]",
      "text/plain": [
       "<Figure size 432x288 with 1 Axes>"
      ]
     },
     "metadata": {
      "needs_background": "light"
     },
     "output_type": "display_data"
    }
   ],
   "source": [
    "plt.scatter(X[1], y)\n",
    "plt.plot(X[1], y_pred, color='C1')\n",
    "plt.title(f'Прямая линейной регрессии Y = {W[0]:.2f} + {W[1]:.2f} * X')\n",
    "plt.grid()"
   ]
  },
  {
   "cell_type": "markdown",
   "metadata": {},
   "source": [
    "*Среднеквадратичная ошибка:*"
   ]
  },
  {
   "cell_type": "code",
   "execution_count": 7,
   "metadata": {},
   "outputs": [],
   "source": [
    "def calc_mse(y, y_pred):\n",
    "    return np.mean((y - y_pred) ** 2)"
   ]
  },
  {
   "cell_type": "code",
   "execution_count": 8,
   "metadata": {},
   "outputs": [
    {
     "data": {
      "text/plain": [
       "45.93750000000002"
      ]
     },
     "execution_count": 8,
     "metadata": {},
     "output_type": "execute_result"
    }
   ],
   "source": [
    "calc_mse(y, y_pred)"
   ]
  },
  {
   "cell_type": "markdown",
   "metadata": {},
   "source": [
    "Найдем вектор $w$ методом градиентного спуска:"
   ]
  },
  {
   "cell_type": "code",
   "execution_count": 9,
   "metadata": {},
   "outputs": [],
   "source": [
    "n = X.shape[1]\n",
    "# alpha = 1e-4\n",
    "W = np.array([1, 0.5])\n",
    "accuracy = 1e-10"
   ]
  },
  {
   "cell_type": "code",
   "execution_count": 10,
   "metadata": {},
   "outputs": [],
   "source": [
    "def gradient_descent(alpha, accuracy):\n",
    "    \n",
    "    W = np.array([1, 0.5])\n",
    "    W_diff = np.inf\n",
    "    i = 0\n",
    "    \n",
    "    while W_diff > accuracy:\n",
    "\n",
    "        y_pred = np.dot(W, X)\n",
    "        err = calc_mse(y, y_pred)\n",
    "        W_old = W.copy()\n",
    "\n",
    "        for ii in range(W.shape[0]):\n",
    "            W[ii] -= alpha * (1 / n * 2 * np.sum(X[ii] * (y_pred - y)))\n",
    "\n",
    "        W_diff = np.linalg.norm(W - W_old, ord=2)\n",
    "        i += 1\n",
    "    \n",
    "    return i, W, err"
   ]
  },
  {
   "cell_type": "code",
   "execution_count": 11,
   "metadata": {},
   "outputs": [
    {
     "data": {
      "application/vnd.jupyter.widget-view+json": {
       "model_id": "61a7b01681624a25b75394e5b49552c3",
       "version_major": 2,
       "version_minor": 0
      },
      "text/plain": [
       "HBox(children=(HTML(value=''), FloatProgress(value=0.0, max=67.0), HTML(value='')))"
      ]
     },
     "metadata": {},
     "output_type": "display_data"
    },
    {
     "name": "stdout",
     "output_type": "stream",
     "text": [
      "\n"
     ]
    }
   ],
   "source": [
    "dictionary = {}\n",
    "\n",
    "for alpha in tqdm(np.arange(1e-4, 0.067, 1e-3)):\n",
    "    i, W, err = gradient_descent(alpha, accuracy)\n",
    "    dictionary[i] = alpha, W, err"
   ]
  },
  {
   "cell_type": "code",
   "execution_count": 12,
   "metadata": {},
   "outputs": [
    {
     "name": "stdout",
     "output_type": "stream",
     "text": [
      "\n",
      "Заданная точность: 1e-10\n",
      "Скорость обучения, при которой количество итераций минимально: 0.0631\n",
      "Минимальное количество итераций = 357\n",
      "W0 = 47.232142855815574, W1 = 3.910714285959381\n",
      "Среднеквадратичная ошибка = 45.9375\n"
     ]
    }
   ],
   "source": [
    "i = min(dictionary.keys())\n",
    "alpha, W, err = dictionary[i]\n",
    "\n",
    "print(f'\\nЗаданная точность: {accuracy}\\nСкорость обучения, при которой количество итераций минимально: {alpha:.4f}\\\n",
    "\\nМинимальное количество итераций = {i}\\nW0 = {W[0]}, W1 = {W[1]}\\nСреднеквадратичная ошибка = {err}')"
   ]
  },
  {
   "cell_type": "code",
   "execution_count": 13,
   "metadata": {},
   "outputs": [],
   "source": [
    "oy = np.array(list(dictionary.keys()))\n",
    "ox = np.array([dictionary[k][0] for k in oy])"
   ]
  },
  {
   "cell_type": "code",
   "execution_count": 14,
   "metadata": {},
   "outputs": [
    {
     "data": {
      "image/png": "[encoded data removed]",
      "text/plain": [
       "<Figure size 576x288 with 1 Axes>"
      ]
     },
     "metadata": {
      "needs_background": "light"
     },
     "output_type": "display_data"
    }
   ],
   "source": [
    "plt.figure(figsize=(8, 4))\n",
    "plt.plot(ox, oy)\n",
    "plt.scatter(alpha, i, s=50, color='C3', label='min')\n",
    "plt.xlabel('$alpha$')\n",
    "plt.ylabel('$iterations$')\n",
    "plt.title('Зависимость количества итераций от скорости обучения')\n",
    "plt.ylim(0, 10000)\n",
    "plt.legend()\n",
    "plt.grid()"
   ]
  },
  {
   "cell_type": "markdown",
   "metadata": {},
   "source": [
    "__Задание 2.__ В этом коде мы избавляемся от итераций по весам, но тут есть ошибка, исправьте ее:"
   ]
  },
  {
   "cell_type": "code",
   "execution_count": 15,
   "metadata": {},
   "outputs": [],
   "source": [
    "# for i in range(1500):\n",
    "#     y_pred = np.dot(W, X)\n",
    "#     err = calc_mse(y, y_pred)\n",
    "#     '''for ii in range(W.shape[0]):\n",
    "#     W[ii] -= alpha * (1/n * 2 * np.sum(X[ii] * (y_pred - y)))'''\n",
    "#     W -= (alpha * (1/n * 2 * np.sum(X * (y_pred - y))))\n",
    "#     if i % 100 == 0:\n",
    "#         print(i, W, err)"
   ]
  },
  {
   "cell_type": "markdown",
   "metadata": {},
   "source": [
    "*В коде две ошибки:*\n",
    "\n",
    "*1) необходимо заменить поэлементное произведение X * (y_pred - y) на матричное произведение X @ (y_pred - y)*\n",
    "\n",
    "*2) суммирование np.sum лишнее*"
   ]
  },
  {
   "cell_type": "code",
   "execution_count": 16,
   "metadata": {},
   "outputs": [],
   "source": [
    "n = X.shape[1]\n",
    "alpha = 1e-4\n",
    "W = np.array([1, 0.5])"
   ]
  },
  {
   "cell_type": "code",
   "execution_count": 17,
   "metadata": {},
   "outputs": [
    {
     "name": "stdout",
     "output_type": "stream",
     "text": [
      "0 [1.01102 0.534  ] 3173.15\n",
      "10000 [31.64431213  6.78912647] 176.59523446839947\n",
      "20000 [41.72163799  4.92827116] 62.26600944080188\n",
      "30000 [45.28410632  4.27043414] 47.97810036432719\n",
      "40000 [46.54348611  4.03788002] 46.192517144215635\n",
      "50000 [46.98869356  3.95566906] 45.96936990700425\n",
      "60000 [47.1460803   3.92660639] 45.941482834078\n",
      "70000 [47.2017186   3.91633236] 45.9379977412482\n",
      "80000 [47.22138748  3.91270035] 45.93756220353279\n",
      "90000 [47.22834069  3.91141639] 45.9375077736766\n",
      "100000 [47.23079874  3.91096249] 45.93750097148897\n",
      "110000 [47.23166769  3.91080203] 45.93750012140856\n",
      "120000 [47.23197488  3.9107453 ] 45.93750001517263\n",
      "130000 [47.23208348  3.91072525] 45.937500001896126\n",
      "140000 [47.23212186  3.91071816] 45.93750000023697\n",
      "150000 [47.23213544  3.91071566] 45.93750000002963\n",
      "160000 [47.23214023  3.91071477] 45.937500000003695\n",
      "170000 [47.23214193  3.91071446] 45.93750000000047\n",
      "180000 [47.23214253  3.91071435] 45.93750000000008\n",
      "190000 [47.23214274  3.91071431] 45.93750000000001\n"
     ]
    }
   ],
   "source": [
    "for i in range(200000):\n",
    "    y_pred = np.dot(W, X)\n",
    "    err = calc_mse(y, y_pred)\n",
    "    '''for ii in range(W.shape[0]):\n",
    "    W[ii] -= alpha * (1/n * 2 * np.sum(X[ii] * (y_pred - y)))'''\n",
    "    W -= alpha * (1 / n * 2 * X @ (y_pred - y))\n",
    "    if i % 10000 == 0:\n",
    "        print(i, W, err)"
   ]
  }
 ],
 "metadata": {
  "kernelspec": {
   "display_name": "Python 3",
   "language": "python",
   "name": "python3"
  },
  "language_info": {
   "codemirror_mode": {
    "name": "ipython",
    "version": 3
   },
   "file_extension": ".py",
   "mimetype": "text/x-python",
   "name": "python",
   "nbconvert_exporter": "python",
   "pygments_lexer": "ipython3",
   "version": "3.9.0"
  }
 },
 "nbformat": 4,
 "nbformat_minor": 4
}
